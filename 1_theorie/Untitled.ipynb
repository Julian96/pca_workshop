{
 "cells": [
  {
   "cell_type": "markdown",
   "id": "muslim-celtic",
   "metadata": {},
   "source": [
    "# PCA Theorie"
   ]
  },
  {
   "cell_type": "markdown",
   "id": "awful-tutorial",
   "metadata": {},
   "source": [
    "Was genau ist die PCA?<br>\n",
    "Die PCA (Principal Component Analysis, deutsch: Hauptkomponentenanalyse) ist ein Verfahren der multivariaten Statistik zur Reduktion der Dimension eines Datensatzes. Genauer werden hier die Daten als Linearkombinationen der Hauptkomponenten dargestellt.<br>\n",
    "Der zugrundeliegende Datensatz ist eine $nxp$ Matrix, wobei dies $n$ Beobachtungen im Raum $\\mathbb{R}^{p}$ darstellt. Das Ziel der PCA ist es diesen Datensatz auf einen Unterraum $\\mathbb{R}^{q}$ ($q < p$) zu projezieren, sodass möglichst wenig Information verloren geht. Dies erfolgt durch das Zusammenfassen von Korrelationen innerhalb der Daten."
   ]
  },
  {
   "cell_type": "markdown",
   "id": "improved-certificate",
   "metadata": {},
   "source": [
    "![PCA Rotation](pictures/PCA.gif \"PCA rotation\")"
   ]
  },
  {
   "cell_type": "markdown",
   "id": "japanese-repository",
   "metadata": {},
   "source": [
    "Wie genau kann man sich das vorstellen?<br>\n",
    "Die Daten werden an das Koordinatensystem angepasst, sodass die neuen entstehenden Achsen entlang der größten Streuung (Varianz) der Daten liegen. Somit erhalten wir neue Dimensionen, die unterschiedlich viel Aussagekraft besitzen. Nun können die Dimensionen mit wenig Aussagekraft einfach aus dem Datensatz \"weggelassen\" werden."
   ]
  },
  {
   "cell_type": "code",
   "execution_count": 4,
   "id": "burning-isolation",
   "metadata": {},
   "outputs": [],
   "source": [
    "import numpy as np\n",
    "import matplotlib.pyplot as plt\n",
    "import matplotlib.patches as patches\n",
    "\n",
    "X = np.array([-1,0,1])\n",
    "Y = np.array([-1,0,1])\n",
    "\n",
    "X_new = np.array([-np.sqrt(2),0,np.sqrt(2)])\n",
    "Y_new = np.array([0,0,0])"
   ]
  },
  {
   "cell_type": "markdown",
   "id": "bottom-senate",
   "metadata": {},
   "source": [
    "<img src=\"pictures/rotation.png\" style=\"width:700px\">"
   ]
  },
  {
   "cell_type": "markdown",
   "id": "behavioral-sympathy",
   "metadata": {},
   "source": [
    "# Herleitung der Idee"
   ]
  },
  {
   "cell_type": "markdown",
   "id": "theoretical-memorabilia",
   "metadata": {},
   "source": [
    "Es liegt eine Zufallsvariable $X \\in \\mathbb{R}^{p}$ vor.<br>\n",
    "1. Gesucht ist eine Linearkombination $a_1^T \\in \\mathbb{R}^{p}$, sodass:\n",
    "    1. $Var(a_1^T X)$ maximal wird\n",
    "    2. $\\lVert \\mathbf{a_1} \\rVert = 1$\n",
    "2. Gesucht ist eine Linearkombination $a_2^T \\in \\mathbb{R}^{p}$, sodass:\n",
    "    1. $Var(a_2^T X)$ maximal wird\n",
    "    2. $\\lVert \\mathbf{a_2} \\rVert = 1$\n",
    "    3. $\\langle a_1,a_2\\rangle = 0$ (orthogonal zueinander)\n",
    "3. ...\n",
    "\n",
    "Ansatz zu Schritt 1: <br>\n",
    "Gesucht ist ein $a \\in \\mathbb{R}^{p}$ mit $a^T\\Sigma a$ maximal unter der Nebenbedingung $\\lVert \\mathbf{a} \\rVert = 1$<br>\n",
    "Dazu wird eine Lagrange-Funktion aufgestellt mit<br>\n",
    "$L(a,\\lambda) = a^T\\Sigma a - \\lambda(a^Ta-1)$<br>\n",
    "Lösung: $\\nabla L(a,\\lambda) = 0 \\Rightarrow \\Sigma a = \\lambda a \\wedge  \\lVert \\mathbf{a} \\rVert = 1$<br>\n",
    "\n",
    "Hier entsteht ein Eigenwertproblem mit $\\Sigma a = \\lambda a$<br>"
   ]
  },
  {
   "cell_type": "markdown",
   "id": "communist-newton",
   "metadata": {},
   "source": [
    "# Einschub: Eigenwerte und Eigenvektoren\n",
    "Ein Eigenwertproblem hat die Form $Ax = \\lambda x$, dies bedeutet, dass ein Vektor $x$ durch die Matrix $A$ rotiert wird und der daraus resultierende Vektor ein identischer Vektor lediglich mit einer angepassten Länge zum ursprünglichen Vektor ist. Hier ist der Vektor $x$ der Eigenvektor der Matrix $A$ mit dem zugehörigen Eigenwert $\\lambda$.<br>\n",
    "Ein guter Link zur genaueren Erklärung: <a href = \"https://www.youtube.com/watch?v=PFDu9oVAE-g&ab_channel=3Blue1Brown\">Videolink</a>"
   ]
  },
  {
   "cell_type": "markdown",
   "id": "signed-myanmar",
   "metadata": {},
   "source": [
    "\n",
    "<table><tr>\n",
    "<td> <img src=\"pictures/eig1.png\" style=\"width:400px\"> </td>\n",
    "<td> <img src=\"pictures/eig2.png\" style=\"width:400px\"> </td>\n",
    "</tr>\n",
    "</table>"
   ]
  },
  {
   "cell_type": "markdown",
   "id": "later-limitation",
   "metadata": {},
   "source": [
    "# Einschub: Spektraltheorem\n",
    "Diagonalmatrix: Eine Matrix ist eine Diagonalmatrix, wenn alle Werte innerhalb der Matrix 0 sind außer auf der Hauptdiagonalen. $D = diag(d_1,d_2,d_3,\\dots)$.<br>\n",
    "Reguläre Matrix: Eine Matrix ist regulär, wenn sie invertierbar ist. Dies bedeutet, dass z.B. $A\\cdot B = I$, wobei $I$ die Einheitsmatrix ist.<br>\n",
    "Einheitsmatrix: $diag(1,1,1,1,\\dots)$<br>\n",
    "Ähnliche Matrix: Die quadratischen Matrizen $A$ und $B$ sind ähnlich, wenn eine reguläre Matrix S existiert, sodass $B=S^{-1}AS$ gilt.<br>\n",
    "\n",
    "Eine Matrix A ist dann diagonalisierbar, wenn es eine Diagonalmatrix $ D_{A}$ gibt, zu der sie ähnlich ist, das heißt es gibt eine reguläre Matrix $S$, sodass gilt $D_A = S^{-1}AS$. $D_A$ ist dabei die Diagonalmatrix $diag(\\lambda_1,\\lambda_2,...)$ und $S$ die Matrix mit den Eigenvektoren als Spalten.<br>\n",
    "Der Spektralsatz besagt, dass bei einer gewissen Untermenge von Matrizen die Matrix $S$ die Orthonormalbasis von $A$ ist. Dies bedeutet, dass alle Vektoren orthogonal zueinander sind und die Länge 1 ist.<br>\n",
    "Dies gilt zum Glück für die Varianz-Kovarianz Matrix $\\Sigma$. Das bedeutet, dass die Eigenvektoren von $\\Sigma$ die Orthonormalbasis von $\\Sigma$ bilden."
   ]
  },
  {
   "cell_type": "code",
   "execution_count": null,
   "id": "mysterious-clinic",
   "metadata": {},
   "outputs": [],
   "source": []
  }
 ],
 "metadata": {
  "kernelspec": {
   "display_name": "Python 3",
   "language": "python",
   "name": "python3"
  },
  "language_info": {
   "codemirror_mode": {
    "name": "ipython",
    "version": 3
   },
   "file_extension": ".py",
   "mimetype": "text/x-python",
   "name": "python",
   "nbconvert_exporter": "python",
   "pygments_lexer": "ipython3",
   "version": "3.8.6"
  }
 },
 "nbformat": 4,
 "nbformat_minor": 5
}
